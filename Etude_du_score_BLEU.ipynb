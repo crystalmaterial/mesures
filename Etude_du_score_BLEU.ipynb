{
  "nbformat": 4,
  "nbformat_minor": 0,
  "metadata": {
    "colab": {
      "provenance": [],
      "collapsed_sections": [
        "ebgM0DbEd6WP",
        "BFLGWWNDPR8_",
        "CaeNMUNOyGQA",
        "hqcOeH6nmHOw"
      ]
    },
    "kernelspec": {
      "name": "python3",
      "display_name": "Python 3"
    },
    "language_info": {
      "name": "python"
    },
    "widgets": {
      "application/vnd.jupyter.widget-state+json": {
        "91eda2cf1afd466aa2cf26716f864591": {
          "model_module": "@jupyter-widgets/controls",
          "model_name": "HBoxModel",
          "model_module_version": "1.5.0",
          "state": {
            "_dom_classes": [],
            "_model_module": "@jupyter-widgets/controls",
            "_model_module_version": "1.5.0",
            "_model_name": "HBoxModel",
            "_view_count": null,
            "_view_module": "@jupyter-widgets/controls",
            "_view_module_version": "1.5.0",
            "_view_name": "HBoxView",
            "box_style": "",
            "children": [
              "IPY_MODEL_a0a03023a0a14f76a51d5f5f03b9b48f",
              "IPY_MODEL_bcd724f8b4614393871a039ec7389866",
              "IPY_MODEL_5db2abec732c4cf9b7efd30c35121575"
            ],
            "layout": "IPY_MODEL_8428fab8c40d4b7185caa7a270c0d139"
          }
        },
        "a0a03023a0a14f76a51d5f5f03b9b48f": {
          "model_module": "@jupyter-widgets/controls",
          "model_name": "HTMLModel",
          "model_module_version": "1.5.0",
          "state": {
            "_dom_classes": [],
            "_model_module": "@jupyter-widgets/controls",
            "_model_module_version": "1.5.0",
            "_model_name": "HTMLModel",
            "_view_count": null,
            "_view_module": "@jupyter-widgets/controls",
            "_view_module_version": "1.5.0",
            "_view_name": "HTMLView",
            "description": "",
            "description_tooltip": null,
            "layout": "IPY_MODEL_5ac93f86be7a4b6ea44015e58415bf5f",
            "placeholder": "​",
            "style": "IPY_MODEL_61f08439b8d54535b3583cda4392aded",
            "value": "Downloading builder script: 100%"
          }
        },
        "bcd724f8b4614393871a039ec7389866": {
          "model_module": "@jupyter-widgets/controls",
          "model_name": "FloatProgressModel",
          "model_module_version": "1.5.0",
          "state": {
            "_dom_classes": [],
            "_model_module": "@jupyter-widgets/controls",
            "_model_module_version": "1.5.0",
            "_model_name": "FloatProgressModel",
            "_view_count": null,
            "_view_module": "@jupyter-widgets/controls",
            "_view_module_version": "1.5.0",
            "_view_name": "ProgressView",
            "bar_style": "success",
            "description": "",
            "description_tooltip": null,
            "layout": "IPY_MODEL_51a5fd11fb8440cc9d82a68186918192",
            "max": 5937,
            "min": 0,
            "orientation": "horizontal",
            "style": "IPY_MODEL_74c520510fac474b86a183d823ee262e",
            "value": 5937
          }
        },
        "5db2abec732c4cf9b7efd30c35121575": {
          "model_module": "@jupyter-widgets/controls",
          "model_name": "HTMLModel",
          "model_module_version": "1.5.0",
          "state": {
            "_dom_classes": [],
            "_model_module": "@jupyter-widgets/controls",
            "_model_module_version": "1.5.0",
            "_model_name": "HTMLModel",
            "_view_count": null,
            "_view_module": "@jupyter-widgets/controls",
            "_view_module_version": "1.5.0",
            "_view_name": "HTMLView",
            "description": "",
            "description_tooltip": null,
            "layout": "IPY_MODEL_71203892ff70456ea2ba0d1ec360f63a",
            "placeholder": "​",
            "style": "IPY_MODEL_8beebd4695974640aae1a104b4383e50",
            "value": " 5.94k/5.94k [00:00&lt;00:00, 369kB/s]"
          }
        },
        "8428fab8c40d4b7185caa7a270c0d139": {
          "model_module": "@jupyter-widgets/base",
          "model_name": "LayoutModel",
          "model_module_version": "1.2.0",
          "state": {
            "_model_module": "@jupyter-widgets/base",
            "_model_module_version": "1.2.0",
            "_model_name": "LayoutModel",
            "_view_count": null,
            "_view_module": "@jupyter-widgets/base",
            "_view_module_version": "1.2.0",
            "_view_name": "LayoutView",
            "align_content": null,
            "align_items": null,
            "align_self": null,
            "border": null,
            "bottom": null,
            "display": null,
            "flex": null,
            "flex_flow": null,
            "grid_area": null,
            "grid_auto_columns": null,
            "grid_auto_flow": null,
            "grid_auto_rows": null,
            "grid_column": null,
            "grid_gap": null,
            "grid_row": null,
            "grid_template_areas": null,
            "grid_template_columns": null,
            "grid_template_rows": null,
            "height": null,
            "justify_content": null,
            "justify_items": null,
            "left": null,
            "margin": null,
            "max_height": null,
            "max_width": null,
            "min_height": null,
            "min_width": null,
            "object_fit": null,
            "object_position": null,
            "order": null,
            "overflow": null,
            "overflow_x": null,
            "overflow_y": null,
            "padding": null,
            "right": null,
            "top": null,
            "visibility": null,
            "width": null
          }
        },
        "5ac93f86be7a4b6ea44015e58415bf5f": {
          "model_module": "@jupyter-widgets/base",
          "model_name": "LayoutModel",
          "model_module_version": "1.2.0",
          "state": {
            "_model_module": "@jupyter-widgets/base",
            "_model_module_version": "1.2.0",
            "_model_name": "LayoutModel",
            "_view_count": null,
            "_view_module": "@jupyter-widgets/base",
            "_view_module_version": "1.2.0",
            "_view_name": "LayoutView",
            "align_content": null,
            "align_items": null,
            "align_self": null,
            "border": null,
            "bottom": null,
            "display": null,
            "flex": null,
            "flex_flow": null,
            "grid_area": null,
            "grid_auto_columns": null,
            "grid_auto_flow": null,
            "grid_auto_rows": null,
            "grid_column": null,
            "grid_gap": null,
            "grid_row": null,
            "grid_template_areas": null,
            "grid_template_columns": null,
            "grid_template_rows": null,
            "height": null,
            "justify_content": null,
            "justify_items": null,
            "left": null,
            "margin": null,
            "max_height": null,
            "max_width": null,
            "min_height": null,
            "min_width": null,
            "object_fit": null,
            "object_position": null,
            "order": null,
            "overflow": null,
            "overflow_x": null,
            "overflow_y": null,
            "padding": null,
            "right": null,
            "top": null,
            "visibility": null,
            "width": null
          }
        },
        "61f08439b8d54535b3583cda4392aded": {
          "model_module": "@jupyter-widgets/controls",
          "model_name": "DescriptionStyleModel",
          "model_module_version": "1.5.0",
          "state": {
            "_model_module": "@jupyter-widgets/controls",
            "_model_module_version": "1.5.0",
            "_model_name": "DescriptionStyleModel",
            "_view_count": null,
            "_view_module": "@jupyter-widgets/base",
            "_view_module_version": "1.2.0",
            "_view_name": "StyleView",
            "description_width": ""
          }
        },
        "51a5fd11fb8440cc9d82a68186918192": {
          "model_module": "@jupyter-widgets/base",
          "model_name": "LayoutModel",
          "model_module_version": "1.2.0",
          "state": {
            "_model_module": "@jupyter-widgets/base",
            "_model_module_version": "1.2.0",
            "_model_name": "LayoutModel",
            "_view_count": null,
            "_view_module": "@jupyter-widgets/base",
            "_view_module_version": "1.2.0",
            "_view_name": "LayoutView",
            "align_content": null,
            "align_items": null,
            "align_self": null,
            "border": null,
            "bottom": null,
            "display": null,
            "flex": null,
            "flex_flow": null,
            "grid_area": null,
            "grid_auto_columns": null,
            "grid_auto_flow": null,
            "grid_auto_rows": null,
            "grid_column": null,
            "grid_gap": null,
            "grid_row": null,
            "grid_template_areas": null,
            "grid_template_columns": null,
            "grid_template_rows": null,
            "height": null,
            "justify_content": null,
            "justify_items": null,
            "left": null,
            "margin": null,
            "max_height": null,
            "max_width": null,
            "min_height": null,
            "min_width": null,
            "object_fit": null,
            "object_position": null,
            "order": null,
            "overflow": null,
            "overflow_x": null,
            "overflow_y": null,
            "padding": null,
            "right": null,
            "top": null,
            "visibility": null,
            "width": null
          }
        },
        "74c520510fac474b86a183d823ee262e": {
          "model_module": "@jupyter-widgets/controls",
          "model_name": "ProgressStyleModel",
          "model_module_version": "1.5.0",
          "state": {
            "_model_module": "@jupyter-widgets/controls",
            "_model_module_version": "1.5.0",
            "_model_name": "ProgressStyleModel",
            "_view_count": null,
            "_view_module": "@jupyter-widgets/base",
            "_view_module_version": "1.2.0",
            "_view_name": "StyleView",
            "bar_color": null,
            "description_width": ""
          }
        },
        "71203892ff70456ea2ba0d1ec360f63a": {
          "model_module": "@jupyter-widgets/base",
          "model_name": "LayoutModel",
          "model_module_version": "1.2.0",
          "state": {
            "_model_module": "@jupyter-widgets/base",
            "_model_module_version": "1.2.0",
            "_model_name": "LayoutModel",
            "_view_count": null,
            "_view_module": "@jupyter-widgets/base",
            "_view_module_version": "1.2.0",
            "_view_name": "LayoutView",
            "align_content": null,
            "align_items": null,
            "align_self": null,
            "border": null,
            "bottom": null,
            "display": null,
            "flex": null,
            "flex_flow": null,
            "grid_area": null,
            "grid_auto_columns": null,
            "grid_auto_flow": null,
            "grid_auto_rows": null,
            "grid_column": null,
            "grid_gap": null,
            "grid_row": null,
            "grid_template_areas": null,
            "grid_template_columns": null,
            "grid_template_rows": null,
            "height": null,
            "justify_content": null,
            "justify_items": null,
            "left": null,
            "margin": null,
            "max_height": null,
            "max_width": null,
            "min_height": null,
            "min_width": null,
            "object_fit": null,
            "object_position": null,
            "order": null,
            "overflow": null,
            "overflow_x": null,
            "overflow_y": null,
            "padding": null,
            "right": null,
            "top": null,
            "visibility": null,
            "width": null
          }
        },
        "8beebd4695974640aae1a104b4383e50": {
          "model_module": "@jupyter-widgets/controls",
          "model_name": "DescriptionStyleModel",
          "model_module_version": "1.5.0",
          "state": {
            "_model_module": "@jupyter-widgets/controls",
            "_model_module_version": "1.5.0",
            "_model_name": "DescriptionStyleModel",
            "_view_count": null,
            "_view_module": "@jupyter-widgets/base",
            "_view_module_version": "1.2.0",
            "_view_name": "StyleView",
            "description_width": ""
          }
        },
        "1184fb25ce4647899aa69de701a68c0d": {
          "model_module": "@jupyter-widgets/controls",
          "model_name": "HBoxModel",
          "model_module_version": "1.5.0",
          "state": {
            "_dom_classes": [],
            "_model_module": "@jupyter-widgets/controls",
            "_model_module_version": "1.5.0",
            "_model_name": "HBoxModel",
            "_view_count": null,
            "_view_module": "@jupyter-widgets/controls",
            "_view_module_version": "1.5.0",
            "_view_name": "HBoxView",
            "box_style": "",
            "children": [
              "IPY_MODEL_6a65a060125c497eb394c61d1c900430",
              "IPY_MODEL_e3552d28a61742d486efb14e2f7b5b6f",
              "IPY_MODEL_1dbe39da9a514179822b262607430d15"
            ],
            "layout": "IPY_MODEL_15c8bab58323472ebfbb36034e5b43c3"
          }
        },
        "6a65a060125c497eb394c61d1c900430": {
          "model_module": "@jupyter-widgets/controls",
          "model_name": "HTMLModel",
          "model_module_version": "1.5.0",
          "state": {
            "_dom_classes": [],
            "_model_module": "@jupyter-widgets/controls",
            "_model_module_version": "1.5.0",
            "_model_name": "HTMLModel",
            "_view_count": null,
            "_view_module": "@jupyter-widgets/controls",
            "_view_module_version": "1.5.0",
            "_view_name": "HTMLView",
            "description": "",
            "description_tooltip": null,
            "layout": "IPY_MODEL_c4b07f78cbff4e5c86e94905a42dc0c2",
            "placeholder": "​",
            "style": "IPY_MODEL_f885068f91d649728a90f28048ac6ec5",
            "value": "Downloading extra modules: "
          }
        },
        "e3552d28a61742d486efb14e2f7b5b6f": {
          "model_module": "@jupyter-widgets/controls",
          "model_name": "FloatProgressModel",
          "model_module_version": "1.5.0",
          "state": {
            "_dom_classes": [],
            "_model_module": "@jupyter-widgets/controls",
            "_model_module_version": "1.5.0",
            "_model_name": "FloatProgressModel",
            "_view_count": null,
            "_view_module": "@jupyter-widgets/controls",
            "_view_module_version": "1.5.0",
            "_view_name": "ProgressView",
            "bar_style": "success",
            "description": "",
            "description_tooltip": null,
            "layout": "IPY_MODEL_a830a060ef684ccb9f42956ee0672beb",
            "max": 1554,
            "min": 0,
            "orientation": "horizontal",
            "style": "IPY_MODEL_19dad79933b64c248fde49900f415346",
            "value": 1554
          }
        },
        "1dbe39da9a514179822b262607430d15": {
          "model_module": "@jupyter-widgets/controls",
          "model_name": "HTMLModel",
          "model_module_version": "1.5.0",
          "state": {
            "_dom_classes": [],
            "_model_module": "@jupyter-widgets/controls",
            "_model_module_version": "1.5.0",
            "_model_name": "HTMLModel",
            "_view_count": null,
            "_view_module": "@jupyter-widgets/controls",
            "_view_module_version": "1.5.0",
            "_view_name": "HTMLView",
            "description": "",
            "description_tooltip": null,
            "layout": "IPY_MODEL_5de8f21abd70415081e5d5e06388088f",
            "placeholder": "​",
            "style": "IPY_MODEL_823c7b9be9e0435fa597a5283b0634da",
            "value": " 4.07k/? [00:00&lt;00:00, 256kB/s]"
          }
        },
        "15c8bab58323472ebfbb36034e5b43c3": {
          "model_module": "@jupyter-widgets/base",
          "model_name": "LayoutModel",
          "model_module_version": "1.2.0",
          "state": {
            "_model_module": "@jupyter-widgets/base",
            "_model_module_version": "1.2.0",
            "_model_name": "LayoutModel",
            "_view_count": null,
            "_view_module": "@jupyter-widgets/base",
            "_view_module_version": "1.2.0",
            "_view_name": "LayoutView",
            "align_content": null,
            "align_items": null,
            "align_self": null,
            "border": null,
            "bottom": null,
            "display": null,
            "flex": null,
            "flex_flow": null,
            "grid_area": null,
            "grid_auto_columns": null,
            "grid_auto_flow": null,
            "grid_auto_rows": null,
            "grid_column": null,
            "grid_gap": null,
            "grid_row": null,
            "grid_template_areas": null,
            "grid_template_columns": null,
            "grid_template_rows": null,
            "height": null,
            "justify_content": null,
            "justify_items": null,
            "left": null,
            "margin": null,
            "max_height": null,
            "max_width": null,
            "min_height": null,
            "min_width": null,
            "object_fit": null,
            "object_position": null,
            "order": null,
            "overflow": null,
            "overflow_x": null,
            "overflow_y": null,
            "padding": null,
            "right": null,
            "top": null,
            "visibility": null,
            "width": null
          }
        },
        "c4b07f78cbff4e5c86e94905a42dc0c2": {
          "model_module": "@jupyter-widgets/base",
          "model_name": "LayoutModel",
          "model_module_version": "1.2.0",
          "state": {
            "_model_module": "@jupyter-widgets/base",
            "_model_module_version": "1.2.0",
            "_model_name": "LayoutModel",
            "_view_count": null,
            "_view_module": "@jupyter-widgets/base",
            "_view_module_version": "1.2.0",
            "_view_name": "LayoutView",
            "align_content": null,
            "align_items": null,
            "align_self": null,
            "border": null,
            "bottom": null,
            "display": null,
            "flex": null,
            "flex_flow": null,
            "grid_area": null,
            "grid_auto_columns": null,
            "grid_auto_flow": null,
            "grid_auto_rows": null,
            "grid_column": null,
            "grid_gap": null,
            "grid_row": null,
            "grid_template_areas": null,
            "grid_template_columns": null,
            "grid_template_rows": null,
            "height": null,
            "justify_content": null,
            "justify_items": null,
            "left": null,
            "margin": null,
            "max_height": null,
            "max_width": null,
            "min_height": null,
            "min_width": null,
            "object_fit": null,
            "object_position": null,
            "order": null,
            "overflow": null,
            "overflow_x": null,
            "overflow_y": null,
            "padding": null,
            "right": null,
            "top": null,
            "visibility": null,
            "width": null
          }
        },
        "f885068f91d649728a90f28048ac6ec5": {
          "model_module": "@jupyter-widgets/controls",
          "model_name": "DescriptionStyleModel",
          "model_module_version": "1.5.0",
          "state": {
            "_model_module": "@jupyter-widgets/controls",
            "_model_module_version": "1.5.0",
            "_model_name": "DescriptionStyleModel",
            "_view_count": null,
            "_view_module": "@jupyter-widgets/base",
            "_view_module_version": "1.2.0",
            "_view_name": "StyleView",
            "description_width": ""
          }
        },
        "a830a060ef684ccb9f42956ee0672beb": {
          "model_module": "@jupyter-widgets/base",
          "model_name": "LayoutModel",
          "model_module_version": "1.2.0",
          "state": {
            "_model_module": "@jupyter-widgets/base",
            "_model_module_version": "1.2.0",
            "_model_name": "LayoutModel",
            "_view_count": null,
            "_view_module": "@jupyter-widgets/base",
            "_view_module_version": "1.2.0",
            "_view_name": "LayoutView",
            "align_content": null,
            "align_items": null,
            "align_self": null,
            "border": null,
            "bottom": null,
            "display": null,
            "flex": null,
            "flex_flow": null,
            "grid_area": null,
            "grid_auto_columns": null,
            "grid_auto_flow": null,
            "grid_auto_rows": null,
            "grid_column": null,
            "grid_gap": null,
            "grid_row": null,
            "grid_template_areas": null,
            "grid_template_columns": null,
            "grid_template_rows": null,
            "height": null,
            "justify_content": null,
            "justify_items": null,
            "left": null,
            "margin": null,
            "max_height": null,
            "max_width": null,
            "min_height": null,
            "min_width": null,
            "object_fit": null,
            "object_position": null,
            "order": null,
            "overflow": null,
            "overflow_x": null,
            "overflow_y": null,
            "padding": null,
            "right": null,
            "top": null,
            "visibility": null,
            "width": null
          }
        },
        "19dad79933b64c248fde49900f415346": {
          "model_module": "@jupyter-widgets/controls",
          "model_name": "ProgressStyleModel",
          "model_module_version": "1.5.0",
          "state": {
            "_model_module": "@jupyter-widgets/controls",
            "_model_module_version": "1.5.0",
            "_model_name": "ProgressStyleModel",
            "_view_count": null,
            "_view_module": "@jupyter-widgets/base",
            "_view_module_version": "1.2.0",
            "_view_name": "StyleView",
            "bar_color": null,
            "description_width": ""
          }
        },
        "5de8f21abd70415081e5d5e06388088f": {
          "model_module": "@jupyter-widgets/base",
          "model_name": "LayoutModel",
          "model_module_version": "1.2.0",
          "state": {
            "_model_module": "@jupyter-widgets/base",
            "_model_module_version": "1.2.0",
            "_model_name": "LayoutModel",
            "_view_count": null,
            "_view_module": "@jupyter-widgets/base",
            "_view_module_version": "1.2.0",
            "_view_name": "LayoutView",
            "align_content": null,
            "align_items": null,
            "align_self": null,
            "border": null,
            "bottom": null,
            "display": null,
            "flex": null,
            "flex_flow": null,
            "grid_area": null,
            "grid_auto_columns": null,
            "grid_auto_flow": null,
            "grid_auto_rows": null,
            "grid_column": null,
            "grid_gap": null,
            "grid_row": null,
            "grid_template_areas": null,
            "grid_template_columns": null,
            "grid_template_rows": null,
            "height": null,
            "justify_content": null,
            "justify_items": null,
            "left": null,
            "margin": null,
            "max_height": null,
            "max_width": null,
            "min_height": null,
            "min_width": null,
            "object_fit": null,
            "object_position": null,
            "order": null,
            "overflow": null,
            "overflow_x": null,
            "overflow_y": null,
            "padding": null,
            "right": null,
            "top": null,
            "visibility": null,
            "width": null
          }
        },
        "823c7b9be9e0435fa597a5283b0634da": {
          "model_module": "@jupyter-widgets/controls",
          "model_name": "DescriptionStyleModel",
          "model_module_version": "1.5.0",
          "state": {
            "_model_module": "@jupyter-widgets/controls",
            "_model_module_version": "1.5.0",
            "_model_name": "DescriptionStyleModel",
            "_view_count": null,
            "_view_module": "@jupyter-widgets/base",
            "_view_module_version": "1.2.0",
            "_view_name": "StyleView",
            "description_width": ""
          }
        },
        "9b13daba3a074a188e508232145374f4": {
          "model_module": "@jupyter-widgets/controls",
          "model_name": "HBoxModel",
          "model_module_version": "1.5.0",
          "state": {
            "_dom_classes": [],
            "_model_module": "@jupyter-widgets/controls",
            "_model_module_version": "1.5.0",
            "_model_name": "HBoxModel",
            "_view_count": null,
            "_view_module": "@jupyter-widgets/controls",
            "_view_module_version": "1.5.0",
            "_view_name": "HBoxView",
            "box_style": "",
            "children": [
              "IPY_MODEL_192f5075f10240beb6e0ff789473f0b9",
              "IPY_MODEL_582e33ba981d4e06bec05636b7981b07",
              "IPY_MODEL_e43498bbc4ab4898a7578936f4e01b0a"
            ],
            "layout": "IPY_MODEL_26f2e75fe76d4f11a77d99aa7a889c70"
          }
        },
        "192f5075f10240beb6e0ff789473f0b9": {
          "model_module": "@jupyter-widgets/controls",
          "model_name": "HTMLModel",
          "model_module_version": "1.5.0",
          "state": {
            "_dom_classes": [],
            "_model_module": "@jupyter-widgets/controls",
            "_model_module_version": "1.5.0",
            "_model_name": "HTMLModel",
            "_view_count": null,
            "_view_module": "@jupyter-widgets/controls",
            "_view_module_version": "1.5.0",
            "_view_name": "HTMLView",
            "description": "",
            "description_tooltip": null,
            "layout": "IPY_MODEL_7114a7f7940e4eea8458b8c3f6e284ca",
            "placeholder": "​",
            "style": "IPY_MODEL_88e3ab6189214001af0ba6b471e631a3",
            "value": "Downloading extra modules: 100%"
          }
        },
        "582e33ba981d4e06bec05636b7981b07": {
          "model_module": "@jupyter-widgets/controls",
          "model_name": "FloatProgressModel",
          "model_module_version": "1.5.0",
          "state": {
            "_dom_classes": [],
            "_model_module": "@jupyter-widgets/controls",
            "_model_module_version": "1.5.0",
            "_model_name": "FloatProgressModel",
            "_view_count": null,
            "_view_module": "@jupyter-widgets/controls",
            "_view_module_version": "1.5.0",
            "_view_name": "ProgressView",
            "bar_style": "success",
            "description": "",
            "description_tooltip": null,
            "layout": "IPY_MODEL_e4d5baf9137b4cc3847489a68598ccdf",
            "max": 3344,
            "min": 0,
            "orientation": "horizontal",
            "style": "IPY_MODEL_fefcb3febd5240d78e8bd6c4401b55c9",
            "value": 3344
          }
        },
        "e43498bbc4ab4898a7578936f4e01b0a": {
          "model_module": "@jupyter-widgets/controls",
          "model_name": "HTMLModel",
          "model_module_version": "1.5.0",
          "state": {
            "_dom_classes": [],
            "_model_module": "@jupyter-widgets/controls",
            "_model_module_version": "1.5.0",
            "_model_name": "HTMLModel",
            "_view_count": null,
            "_view_module": "@jupyter-widgets/controls",
            "_view_module_version": "1.5.0",
            "_view_name": "HTMLView",
            "description": "",
            "description_tooltip": null,
            "layout": "IPY_MODEL_f76504f200d64e00944cec47ff95188b",
            "placeholder": "​",
            "style": "IPY_MODEL_02f5faadd28b4ddba476c5172ba3f856",
            "value": " 3.34k/3.34k [00:00&lt;00:00, 204kB/s]"
          }
        },
        "26f2e75fe76d4f11a77d99aa7a889c70": {
          "model_module": "@jupyter-widgets/base",
          "model_name": "LayoutModel",
          "model_module_version": "1.2.0",
          "state": {
            "_model_module": "@jupyter-widgets/base",
            "_model_module_version": "1.2.0",
            "_model_name": "LayoutModel",
            "_view_count": null,
            "_view_module": "@jupyter-widgets/base",
            "_view_module_version": "1.2.0",
            "_view_name": "LayoutView",
            "align_content": null,
            "align_items": null,
            "align_self": null,
            "border": null,
            "bottom": null,
            "display": null,
            "flex": null,
            "flex_flow": null,
            "grid_area": null,
            "grid_auto_columns": null,
            "grid_auto_flow": null,
            "grid_auto_rows": null,
            "grid_column": null,
            "grid_gap": null,
            "grid_row": null,
            "grid_template_areas": null,
            "grid_template_columns": null,
            "grid_template_rows": null,
            "height": null,
            "justify_content": null,
            "justify_items": null,
            "left": null,
            "margin": null,
            "max_height": null,
            "max_width": null,
            "min_height": null,
            "min_width": null,
            "object_fit": null,
            "object_position": null,
            "order": null,
            "overflow": null,
            "overflow_x": null,
            "overflow_y": null,
            "padding": null,
            "right": null,
            "top": null,
            "visibility": null,
            "width": null
          }
        },
        "7114a7f7940e4eea8458b8c3f6e284ca": {
          "model_module": "@jupyter-widgets/base",
          "model_name": "LayoutModel",
          "model_module_version": "1.2.0",
          "state": {
            "_model_module": "@jupyter-widgets/base",
            "_model_module_version": "1.2.0",
            "_model_name": "LayoutModel",
            "_view_count": null,
            "_view_module": "@jupyter-widgets/base",
            "_view_module_version": "1.2.0",
            "_view_name": "LayoutView",
            "align_content": null,
            "align_items": null,
            "align_self": null,
            "border": null,
            "bottom": null,
            "display": null,
            "flex": null,
            "flex_flow": null,
            "grid_area": null,
            "grid_auto_columns": null,
            "grid_auto_flow": null,
            "grid_auto_rows": null,
            "grid_column": null,
            "grid_gap": null,
            "grid_row": null,
            "grid_template_areas": null,
            "grid_template_columns": null,
            "grid_template_rows": null,
            "height": null,
            "justify_content": null,
            "justify_items": null,
            "left": null,
            "margin": null,
            "max_height": null,
            "max_width": null,
            "min_height": null,
            "min_width": null,
            "object_fit": null,
            "object_position": null,
            "order": null,
            "overflow": null,
            "overflow_x": null,
            "overflow_y": null,
            "padding": null,
            "right": null,
            "top": null,
            "visibility": null,
            "width": null
          }
        },
        "88e3ab6189214001af0ba6b471e631a3": {
          "model_module": "@jupyter-widgets/controls",
          "model_name": "DescriptionStyleModel",
          "model_module_version": "1.5.0",
          "state": {
            "_model_module": "@jupyter-widgets/controls",
            "_model_module_version": "1.5.0",
            "_model_name": "DescriptionStyleModel",
            "_view_count": null,
            "_view_module": "@jupyter-widgets/base",
            "_view_module_version": "1.2.0",
            "_view_name": "StyleView",
            "description_width": ""
          }
        },
        "e4d5baf9137b4cc3847489a68598ccdf": {
          "model_module": "@jupyter-widgets/base",
          "model_name": "LayoutModel",
          "model_module_version": "1.2.0",
          "state": {
            "_model_module": "@jupyter-widgets/base",
            "_model_module_version": "1.2.0",
            "_model_name": "LayoutModel",
            "_view_count": null,
            "_view_module": "@jupyter-widgets/base",
            "_view_module_version": "1.2.0",
            "_view_name": "LayoutView",
            "align_content": null,
            "align_items": null,
            "align_self": null,
            "border": null,
            "bottom": null,
            "display": null,
            "flex": null,
            "flex_flow": null,
            "grid_area": null,
            "grid_auto_columns": null,
            "grid_auto_flow": null,
            "grid_auto_rows": null,
            "grid_column": null,
            "grid_gap": null,
            "grid_row": null,
            "grid_template_areas": null,
            "grid_template_columns": null,
            "grid_template_rows": null,
            "height": null,
            "justify_content": null,
            "justify_items": null,
            "left": null,
            "margin": null,
            "max_height": null,
            "max_width": null,
            "min_height": null,
            "min_width": null,
            "object_fit": null,
            "object_position": null,
            "order": null,
            "overflow": null,
            "overflow_x": null,
            "overflow_y": null,
            "padding": null,
            "right": null,
            "top": null,
            "visibility": null,
            "width": null
          }
        },
        "fefcb3febd5240d78e8bd6c4401b55c9": {
          "model_module": "@jupyter-widgets/controls",
          "model_name": "ProgressStyleModel",
          "model_module_version": "1.5.0",
          "state": {
            "_model_module": "@jupyter-widgets/controls",
            "_model_module_version": "1.5.0",
            "_model_name": "ProgressStyleModel",
            "_view_count": null,
            "_view_module": "@jupyter-widgets/base",
            "_view_module_version": "1.2.0",
            "_view_name": "StyleView",
            "bar_color": null,
            "description_width": ""
          }
        },
        "f76504f200d64e00944cec47ff95188b": {
          "model_module": "@jupyter-widgets/base",
          "model_name": "LayoutModel",
          "model_module_version": "1.2.0",
          "state": {
            "_model_module": "@jupyter-widgets/base",
            "_model_module_version": "1.2.0",
            "_model_name": "LayoutModel",
            "_view_count": null,
            "_view_module": "@jupyter-widgets/base",
            "_view_module_version": "1.2.0",
            "_view_name": "LayoutView",
            "align_content": null,
            "align_items": null,
            "align_self": null,
            "border": null,
            "bottom": null,
            "display": null,
            "flex": null,
            "flex_flow": null,
            "grid_area": null,
            "grid_auto_columns": null,
            "grid_auto_flow": null,
            "grid_auto_rows": null,
            "grid_column": null,
            "grid_gap": null,
            "grid_row": null,
            "grid_template_areas": null,
            "grid_template_columns": null,
            "grid_template_rows": null,
            "height": null,
            "justify_content": null,
            "justify_items": null,
            "left": null,
            "margin": null,
            "max_height": null,
            "max_width": null,
            "min_height": null,
            "min_width": null,
            "object_fit": null,
            "object_position": null,
            "order": null,
            "overflow": null,
            "overflow_x": null,
            "overflow_y": null,
            "padding": null,
            "right": null,
            "top": null,
            "visibility": null,
            "width": null
          }
        },
        "02f5faadd28b4ddba476c5172ba3f856": {
          "model_module": "@jupyter-widgets/controls",
          "model_name": "DescriptionStyleModel",
          "model_module_version": "1.5.0",
          "state": {
            "_model_module": "@jupyter-widgets/controls",
            "_model_module_version": "1.5.0",
            "_model_name": "DescriptionStyleModel",
            "_view_count": null,
            "_view_module": "@jupyter-widgets/base",
            "_view_module_version": "1.2.0",
            "_view_name": "StyleView",
            "description_width": ""
          }
        },
        "dd4b29ff99c14b4b8caf6285b0b77621": {
          "model_module": "@jupyter-widgets/controls",
          "model_name": "HBoxModel",
          "model_module_version": "1.5.0",
          "state": {
            "_dom_classes": [],
            "_model_module": "@jupyter-widgets/controls",
            "_model_module_version": "1.5.0",
            "_model_name": "HBoxModel",
            "_view_count": null,
            "_view_module": "@jupyter-widgets/controls",
            "_view_module_version": "1.5.0",
            "_view_name": "HBoxView",
            "box_style": "",
            "children": [
              "IPY_MODEL_f0172daa0f8f4fb485f9102f5d86d929",
              "IPY_MODEL_1430bee5294c4ce6b38946290e394a06",
              "IPY_MODEL_abe5280176f3467dafa393f380a8959f"
            ],
            "layout": "IPY_MODEL_eb9cde895a8c40ff8dde23cded09ce33"
          }
        },
        "f0172daa0f8f4fb485f9102f5d86d929": {
          "model_module": "@jupyter-widgets/controls",
          "model_name": "HTMLModel",
          "model_module_version": "1.5.0",
          "state": {
            "_dom_classes": [],
            "_model_module": "@jupyter-widgets/controls",
            "_model_module_version": "1.5.0",
            "_model_name": "HTMLModel",
            "_view_count": null,
            "_view_module": "@jupyter-widgets/controls",
            "_view_module_version": "1.5.0",
            "_view_name": "HTMLView",
            "description": "",
            "description_tooltip": null,
            "layout": "IPY_MODEL_1c5a0516463d48ed8d6bbfd6b1d69594",
            "placeholder": "​",
            "style": "IPY_MODEL_44acab995a744bde90c30282f1876cef",
            "value": "Downloading builder script: 100%"
          }
        },
        "1430bee5294c4ce6b38946290e394a06": {
          "model_module": "@jupyter-widgets/controls",
          "model_name": "FloatProgressModel",
          "model_module_version": "1.5.0",
          "state": {
            "_dom_classes": [],
            "_model_module": "@jupyter-widgets/controls",
            "_model_module_version": "1.5.0",
            "_model_name": "FloatProgressModel",
            "_view_count": null,
            "_view_module": "@jupyter-widgets/controls",
            "_view_module_version": "1.5.0",
            "_view_name": "ProgressView",
            "bar_style": "success",
            "description": "",
            "description_tooltip": null,
            "layout": "IPY_MODEL_f379c67e227f47d7aafa24d3d2cc8dd8",
            "max": 8146,
            "min": 0,
            "orientation": "horizontal",
            "style": "IPY_MODEL_faf2431f3181452d84f35281b427acf0",
            "value": 8146
          }
        },
        "abe5280176f3467dafa393f380a8959f": {
          "model_module": "@jupyter-widgets/controls",
          "model_name": "HTMLModel",
          "model_module_version": "1.5.0",
          "state": {
            "_dom_classes": [],
            "_model_module": "@jupyter-widgets/controls",
            "_model_module_version": "1.5.0",
            "_model_name": "HTMLModel",
            "_view_count": null,
            "_view_module": "@jupyter-widgets/controls",
            "_view_module_version": "1.5.0",
            "_view_name": "HTMLView",
            "description": "",
            "description_tooltip": null,
            "layout": "IPY_MODEL_51b599dbd8104188bae5f7fa227969b5",
            "placeholder": "​",
            "style": "IPY_MODEL_f94534b78ead4df0b9e2cbe84c803bcb",
            "value": " 8.15k/8.15k [00:00&lt;00:00, 641kB/s]"
          }
        },
        "eb9cde895a8c40ff8dde23cded09ce33": {
          "model_module": "@jupyter-widgets/base",
          "model_name": "LayoutModel",
          "model_module_version": "1.2.0",
          "state": {
            "_model_module": "@jupyter-widgets/base",
            "_model_module_version": "1.2.0",
            "_model_name": "LayoutModel",
            "_view_count": null,
            "_view_module": "@jupyter-widgets/base",
            "_view_module_version": "1.2.0",
            "_view_name": "LayoutView",
            "align_content": null,
            "align_items": null,
            "align_self": null,
            "border": null,
            "bottom": null,
            "display": null,
            "flex": null,
            "flex_flow": null,
            "grid_area": null,
            "grid_auto_columns": null,
            "grid_auto_flow": null,
            "grid_auto_rows": null,
            "grid_column": null,
            "grid_gap": null,
            "grid_row": null,
            "grid_template_areas": null,
            "grid_template_columns": null,
            "grid_template_rows": null,
            "height": null,
            "justify_content": null,
            "justify_items": null,
            "left": null,
            "margin": null,
            "max_height": null,
            "max_width": null,
            "min_height": null,
            "min_width": null,
            "object_fit": null,
            "object_position": null,
            "order": null,
            "overflow": null,
            "overflow_x": null,
            "overflow_y": null,
            "padding": null,
            "right": null,
            "top": null,
            "visibility": null,
            "width": null
          }
        },
        "1c5a0516463d48ed8d6bbfd6b1d69594": {
          "model_module": "@jupyter-widgets/base",
          "model_name": "LayoutModel",
          "model_module_version": "1.2.0",
          "state": {
            "_model_module": "@jupyter-widgets/base",
            "_model_module_version": "1.2.0",
            "_model_name": "LayoutModel",
            "_view_count": null,
            "_view_module": "@jupyter-widgets/base",
            "_view_module_version": "1.2.0",
            "_view_name": "LayoutView",
            "align_content": null,
            "align_items": null,
            "align_self": null,
            "border": null,
            "bottom": null,
            "display": null,
            "flex": null,
            "flex_flow": null,
            "grid_area": null,
            "grid_auto_columns": null,
            "grid_auto_flow": null,
            "grid_auto_rows": null,
            "grid_column": null,
            "grid_gap": null,
            "grid_row": null,
            "grid_template_areas": null,
            "grid_template_columns": null,
            "grid_template_rows": null,
            "height": null,
            "justify_content": null,
            "justify_items": null,
            "left": null,
            "margin": null,
            "max_height": null,
            "max_width": null,
            "min_height": null,
            "min_width": null,
            "object_fit": null,
            "object_position": null,
            "order": null,
            "overflow": null,
            "overflow_x": null,
            "overflow_y": null,
            "padding": null,
            "right": null,
            "top": null,
            "visibility": null,
            "width": null
          }
        },
        "44acab995a744bde90c30282f1876cef": {
          "model_module": "@jupyter-widgets/controls",
          "model_name": "DescriptionStyleModel",
          "model_module_version": "1.5.0",
          "state": {
            "_model_module": "@jupyter-widgets/controls",
            "_model_module_version": "1.5.0",
            "_model_name": "DescriptionStyleModel",
            "_view_count": null,
            "_view_module": "@jupyter-widgets/base",
            "_view_module_version": "1.2.0",
            "_view_name": "StyleView",
            "description_width": ""
          }
        },
        "f379c67e227f47d7aafa24d3d2cc8dd8": {
          "model_module": "@jupyter-widgets/base",
          "model_name": "LayoutModel",
          "model_module_version": "1.2.0",
          "state": {
            "_model_module": "@jupyter-widgets/base",
            "_model_module_version": "1.2.0",
            "_model_name": "LayoutModel",
            "_view_count": null,
            "_view_module": "@jupyter-widgets/base",
            "_view_module_version": "1.2.0",
            "_view_name": "LayoutView",
            "align_content": null,
            "align_items": null,
            "align_self": null,
            "border": null,
            "bottom": null,
            "display": null,
            "flex": null,
            "flex_flow": null,
            "grid_area": null,
            "grid_auto_columns": null,
            "grid_auto_flow": null,
            "grid_auto_rows": null,
            "grid_column": null,
            "grid_gap": null,
            "grid_row": null,
            "grid_template_areas": null,
            "grid_template_columns": null,
            "grid_template_rows": null,
            "height": null,
            "justify_content": null,
            "justify_items": null,
            "left": null,
            "margin": null,
            "max_height": null,
            "max_width": null,
            "min_height": null,
            "min_width": null,
            "object_fit": null,
            "object_position": null,
            "order": null,
            "overflow": null,
            "overflow_x": null,
            "overflow_y": null,
            "padding": null,
            "right": null,
            "top": null,
            "visibility": null,
            "width": null
          }
        },
        "faf2431f3181452d84f35281b427acf0": {
          "model_module": "@jupyter-widgets/controls",
          "model_name": "ProgressStyleModel",
          "model_module_version": "1.5.0",
          "state": {
            "_model_module": "@jupyter-widgets/controls",
            "_model_module_version": "1.5.0",
            "_model_name": "ProgressStyleModel",
            "_view_count": null,
            "_view_module": "@jupyter-widgets/base",
            "_view_module_version": "1.2.0",
            "_view_name": "StyleView",
            "bar_color": null,
            "description_width": ""
          }
        },
        "51b599dbd8104188bae5f7fa227969b5": {
          "model_module": "@jupyter-widgets/base",
          "model_name": "LayoutModel",
          "model_module_version": "1.2.0",
          "state": {
            "_model_module": "@jupyter-widgets/base",
            "_model_module_version": "1.2.0",
            "_model_name": "LayoutModel",
            "_view_count": null,
            "_view_module": "@jupyter-widgets/base",
            "_view_module_version": "1.2.0",
            "_view_name": "LayoutView",
            "align_content": null,
            "align_items": null,
            "align_self": null,
            "border": null,
            "bottom": null,
            "display": null,
            "flex": null,
            "flex_flow": null,
            "grid_area": null,
            "grid_auto_columns": null,
            "grid_auto_flow": null,
            "grid_auto_rows": null,
            "grid_column": null,
            "grid_gap": null,
            "grid_row": null,
            "grid_template_areas": null,
            "grid_template_columns": null,
            "grid_template_rows": null,
            "height": null,
            "justify_content": null,
            "justify_items": null,
            "left": null,
            "margin": null,
            "max_height": null,
            "max_width": null,
            "min_height": null,
            "min_width": null,
            "object_fit": null,
            "object_position": null,
            "order": null,
            "overflow": null,
            "overflow_x": null,
            "overflow_y": null,
            "padding": null,
            "right": null,
            "top": null,
            "visibility": null,
            "width": null
          }
        },
        "f94534b78ead4df0b9e2cbe84c803bcb": {
          "model_module": "@jupyter-widgets/controls",
          "model_name": "DescriptionStyleModel",
          "model_module_version": "1.5.0",
          "state": {
            "_model_module": "@jupyter-widgets/controls",
            "_model_module_version": "1.5.0",
            "_model_name": "DescriptionStyleModel",
            "_view_count": null,
            "_view_module": "@jupyter-widgets/base",
            "_view_module_version": "1.2.0",
            "_view_name": "StyleView",
            "description_width": ""
          }
        }
      }
    }
  },
  "cells": [
    {
      "cell_type": "markdown",
      "source": [
        "# BLEU SCORE\n",
        "Rélexion basée sur {B}leu: a Method for Automatic Evaluation of Machine Translation\", de Papineni, Kishore and Roukos, Salim and Ward, Todd and Zhu, Wei-Jing. (références en fin de document)\n",
        "\n",
        "## Lecture supplémentaire\n",
        "- Review + réceente de l'article : https://aclanthology.org/J18-3002.pdf\n",
        "- Librairies python utilisées : nltk et evaluate (https://huggingface.co/spaces/evaluate-metric/bleu)\n",
        "- Quelques infos sur colab : https://www.jcchouinard.com/google-colab-with-python/\n",
        "- Quelques infos sur markdown : https://learninglab.gitlabpages.inria.fr/mooc-rr/mooc-rr-ressources/module1/ressources/introduction_to_markdown_fr.html"
      ],
      "metadata": {
        "id": "YSHSQyukKHiE"
      }
    },
    {
      "cell_type": "markdown",
      "source": [
        "# Etude\n",
        "\n",
        "Pour aider l'humain dans sa compréhension nous voulons :\n",
        "\n",
        "1. Une métrique pour mesurer comment nue traduction se rapproche de la réalité\n",
        "2. Un corpus de références de traduction de bonne qualité\n",
        "\n",
        "Nous utilisons la mesure `BLEU` et la mesure `sacrebleu` et les libraries python NLTK et evaluate\n",
        "\n"
      ],
      "metadata": {
        "id": "svI-ksnGLOa0"
      }
    },
    {
      "cell_type": "code",
      "source": [
        "!pip install evaluate\n",
        "!pip install sacrebleu\n",
        "!pip install meteor"
      ],
      "metadata": {
        "id": "VnJeX_cdcGd4"
      },
      "execution_count": null,
      "outputs": []
    },
    {
      "cell_type": "code",
      "source": [
        "from nltk.translate.bleu_score import sentence_bleu, modified_precision\n",
        "from nltk.util import ngrams\n",
        "from collections import Counter\n",
        "from fractions import Fraction\n",
        "import evaluate\n",
        "import math\n",
        "import nltk\n",
        "\n",
        "def count_clipped_ngrams(reference, hypothesis, n):\n",
        "  # source : chatGPT\n",
        "    ngrams_ref = Counter(ngrams(reference, n))\n",
        "    ngrams_hyp = Counter(ngrams(hypothesis, n))\n",
        "\n",
        "    count_ngram_hyp = sum(ngrams_hyp.values())\n",
        "\n",
        "    count_ngram_match = sum(min(count, ngrams_ref[ngram]) for ngram, count in ngrams_hyp.items())\n",
        "\n",
        "    precision = Fraction(count_ngram_match, count_ngram_hyp)\n",
        "\n",
        "    return precision\n",
        "\n",
        "def display_count(reference, hypothesis):\n",
        "  for i in range(1, len(hypothesis)+1):\n",
        "    total_ngrams = len(hypothesis) - i + 1\n",
        "\n",
        "    # count clipped ngrams\n",
        "    clipped_processing = modified_precision(references, hypothesis, i)\n",
        "    clipped_precision = clipped_processing.numerator\n",
        "\n",
        "    # display\n",
        "    print(\"Comptage de \"+str(i)+\"-gram clippés :\", str(clipped_precision) + \"/\" + str(total_ngrams), \" (\"+str(clipped_precision/total_ngrams)+\")\")\n"
      ],
      "metadata": {
        "id": "9Byyt072Rgfc"
      },
      "execution_count": null,
      "outputs": []
    },
    {
      "cell_type": "markdown",
      "source": [
        "# Baseline : La métrique BLEU\n",
        "\n",
        "La première tâche est de comparer les n-grammes de la référence avec les n-grammes de l'hypothèse et compter les correspondances (indépendament de la position)\n",
        "\n"
      ],
      "metadata": {
        "id": "aZGlh6ciSs-M"
      }
    },
    {
      "cell_type": "markdown",
      "source": [
        "## Précision\n",
        "\n",
        "La pierre angulaire de la métrique est le concept de précision : Compter les nombre de token (unigrammes) présent dans la référence et diviser par le nombre de token de l'hypothèse. Lorsqu'un mot appartient à l'hypothèse et à la référence nous voulons qu'il soit aparié (mis à part) pour éviter qu'il soit compter deux fois. Cela introduit le concept de *précision d'unigramme modifiée*  (modified unigram precision). Intuitivement le nombre total d'occurrences de chaque mot candidat est limitée (clip en anglais) et comparée avec le nombre maximum d'occurrences de ce mot dans les références.\n",
        "\n",
        "On additionne ensuite ces occurrences \"clipées\" et on divise le total par le nombre total de mots candidats (non \"clippés\"). Ce qui donne la formule suivante :\n",
        "\n",
        "$p_n = \\frac{\\sum_{C \\in \\{Candidates \\} } \\sum_{n-gram \\in C} \\text{Count}_{\\text{clip}}(\\text{n-gram})}{\\sum_{C' \\in \\{Candidates \\} } \\sum_{n-gram' \\in C'} \\text{Count}(\\text{n-gram'})}$\n",
        "\n",
        "C'est à dire que le nombre de n-grammes \"clipés\" pour chaque hypothèse est divisée par le nombre de n-grammes pour chaque hypothèses."
      ],
      "metadata": {
        "id": "dK_4ORTSj9HA"
      }
    },
    {
      "cell_type": "markdown",
      "source": [
        "## Référence\n",
        "\n",
        "Nous n'utilisons qu'une seule référence qui est une traduction en langue des signes de la phrase :\n",
        "\n",
        "(...)Qui s'offraient aux bras dorés du soleil, Lui qui inondait le pays de ses étincelles,(...) provenant d'une chanson de l'artiste *Shuriken* appellée \"les tam-tams de l'Afrique\" et traduite en langue des signes (LSF)\n",
        "\n",
        "REFERENCE : AFRIQUE OFFRIR BRAS DORE SOLEIL PAYS ETINCELLES\n",
        "\n",
        "*NB: le cas avec plusieurs référence est laissé en exercice*\n"
      ],
      "metadata": {
        "id": "ebgM0DbEd6WP"
      }
    },
    {
      "cell_type": "code",
      "source": [
        "reference = str('AFRIQUE OFFRIR BRAS DORE SOLEIL PAYS ETINCELLES').split()\n",
        "\n",
        "references = [\n",
        "    reference\n",
        "]\n",
        "\n",
        "print(\"référence : \",reference)"
      ],
      "metadata": {
        "id": "MmzhxTOZASqp",
        "colab": {
          "base_uri": "https://localhost:8080/"
        },
        "outputId": "6c6f370b-3ea5-4ae6-eb8f-44d407e319ac"
      },
      "execution_count": null,
      "outputs": [
        {
          "output_type": "stream",
          "name": "stdout",
          "text": [
            "référence :  ['AFRIQUE', 'OFFRIR', 'BRAS', 'DORE', 'SOLEIL', 'PAYS', 'ETINCELLES']\n"
          ]
        }
      ]
    },
    {
      "cell_type": "markdown",
      "source": [
        "## Hypothèse\n",
        "\n",
        "Avec une seule hypothèse $p_n$ est donc calculée comme suit :\n",
        "\n",
        "$p_n = \\frac{\\sum_{n-gram \\in C} \\text{Count}_{\\text{clip}}(\\text{n-gram})}{\\sum_{n-gram' \\in C'} \\text{Count}(\\text{n-gram'})}$ où C est l'hypothèse\n"
      ],
      "metadata": {
        "id": "Nbg3HOOO5thP"
      }
    },
    {
      "cell_type": "markdown",
      "source": [
        "# Traductions\n",
        "\n",
        "Utilisons hugging faces pour effectuer les 3 traductions"
      ],
      "metadata": {
        "id": "IYJK0aBZn4nU"
      }
    },
    {
      "cell_type": "code",
      "source": [
        "references = [\n",
        "  [\"AFRIQUE OFFRIR BRAS DORE SOLEIL PAYS ETINCELLES\"]\n",
        "]\n",
        "\n",
        "\n",
        "prediction01 = [\"AFRIQUE OFFRIR BRAS DORE ETOILE PAYS ETINCELLES\"]\n",
        "prediction02 = [\"AFRIQUE OFFRIR BRAS\"]\n",
        "prediction03 = [\"AFRIQUE OFFRIR BRAS DORE\"]\n",
        "\n",
        "sacrebleu = evaluate.load(\"sacrebleu\")\n",
        "\n",
        "results = sacrebleu.compute(references=references, predictions=prediction01)\n",
        "print(\"score sacrebleu prediction 1 : \",results)\n",
        "\n",
        "results = sacrebleu.compute(references=references, predictions=prediction02)\n",
        "print(\"score sacrebleu prediction 2 : \",results)\n",
        "\n",
        "results = sacrebleu.compute(references=references, predictions=prediction03)\n",
        "print(\"score sacrebleu prediction 3 : \",results)"
      ],
      "metadata": {
        "id": "bw34XGwtupfZ",
        "colab": {
          "base_uri": "https://localhost:8080/"
        },
        "outputId": "b7026d0d-245a-4375-beb2-3ecae5be34f5"
      },
      "execution_count": null,
      "outputs": [
        {
          "output_type": "stream",
          "name": "stdout",
          "text": [
            "score sacrebleu prediction 1 :  {'score': 48.892302243490086, 'counts': [6, 4, 2, 1], 'totals': [7, 6, 5, 4], 'precisions': [85.71428571428571, 66.66666666666667, 40.0, 25.0], 'bp': 1.0, 'sys_len': 7, 'ref_len': 7}\n",
            "score sacrebleu prediction 2 :  {'score': 0.0, 'counts': [3, 2, 1, 0], 'totals': [3, 2, 1, 0], 'precisions': [100.0, 100.0, 100.0, 0.0], 'bp': 0.2635971381157267, 'sys_len': 3, 'ref_len': 7}\n",
            "score sacrebleu prediction 3 :  {'score': 47.23665527410149, 'counts': [4, 3, 2, 1], 'totals': [4, 3, 2, 1], 'precisions': [100.0, 100.0, 100.0, 100.0], 'bp': 0.4723665527410147, 'sys_len': 4, 'ref_len': 7}\n"
          ]
        }
      ]
    },
    {
      "cell_type": "code",
      "source": [
        "hypothesis = str('AFRIQUE OFFRIR BRAS DORE ETOILE PAYS ETINCELLES').split()\n",
        "print(\"hypothèse : \",hypothesis)"
      ],
      "metadata": {
        "colab": {
          "base_uri": "https://localhost:8080/"
        },
        "id": "U_mrHQs8iigT",
        "outputId": "f1dbee7f-9fb6-4441-e8f0-fa6ac131218a"
      },
      "execution_count": null,
      "outputs": [
        {
          "output_type": "stream",
          "name": "stdout",
          "text": [
            "hypothèse :  ['AFRIQUE', 'OFFRIR', 'BRAS', 'DORE', 'ETOILE', 'PAYS', 'ETINCELLES']\n"
          ]
        }
      ]
    },
    {
      "cell_type": "markdown",
      "source": [
        "# Fonctionnement\n",
        "\n",
        "Détaillons le fonctionnement de cette mesure\n",
        "\n",
        "\n",
        "- La fonction Count_{clip}() renvoie le nombre de i-gramme d'ordre i de l'hypothèse qui existent dans la référence divisée par le nombre total de token de l'hypothèse. Nous sommons pour chaque ordre de i-gramme où $i \\in [1, ..., n]$ et $n$ représente le nombre de token de l'hypothèse.\n",
        "\n",
        "- La fonction Count() fonctionne selon le même principe mais sans \"clipper\" la phrase (comme expliqué au point précédent)"
      ],
      "metadata": {
        "id": "crae9M1omkG7"
      }
    },
    {
      "cell_type": "markdown",
      "source": [
        "## Comptage\n",
        "\n",
        "Les fonctions $Count_{clip}(n-gram)$ et $Count(n-gram)$ permettent de calculer la précision $p_n$. Affichons également le score BLEU en utilisant la fonction *sentence_bleu()* de la library nltk"
      ],
      "metadata": {
        "id": "nntDDJ0litPl"
      }
    },
    {
      "cell_type": "code",
      "source": [
        "display_count(reference, hypothesis)\n",
        "\n",
        "# nltk\n",
        "# print('BLEU score -> {}'.format(sentence_bleu(references, hypothesis)))\n",
        "\n",
        "op1 = ((6/7)**(1/4))\n",
        "print(\"op1 : \",op1)\n",
        "\n",
        "res = ((6/7)**(1/4)) * ((4/6)**(1/4)) * ((2/5)**(1/4)) * ((1/4)**(1/4))\n",
        "res2 = ((6/7) * (4/6) * (2/5) * (1/4))**(1/4)\n",
        "res3 = (2/35)**(1/4)\n",
        "\n",
        "print(\"res = \",res3)\n",
        "\n",
        "res_7gram = ((6/7)**(1/7)) * ((4/6)**(1/7)) * ((2/5)**(1/7)) * ((1/4)**(1/7)) * 0**(1/7) * 0**(1/7) * 0**(1/7)\n",
        "\n",
        "print(\"BLEU 7gram = \",res_7gram)"
      ],
      "metadata": {
        "colab": {
          "base_uri": "https://localhost:8080/"
        },
        "id": "zBUOx2fQhuky",
        "outputId": "b57b4477-c1db-4221-bc9a-2e34bfec6aed"
      },
      "execution_count": null,
      "outputs": [
        {
          "output_type": "stream",
          "name": "stdout",
          "text": [
            "Comptage de 1-gram clippés : 6/7  (0.8571428571428571)\n",
            "Comptage de 2-gram clippés : 4/6  (0.6666666666666666)\n",
            "Comptage de 3-gram clippés : 2/5  (0.4)\n",
            "Comptage de 4-gram clippés : 1/4  (0.25)\n",
            "Comptage de 5-gram clippés : 0/3  (0.0)\n",
            "Comptage de 6-gram clippés : 0/2  (0.0)\n",
            "Comptage de 7-gram clippés : 0/1  (0.0)\n",
            "op1 :  0.9621954581957615\n",
            "res =  0.48892302243490104\n",
            "BLEU 7gram =  0.0\n"
          ]
        }
      ]
    },
    {
      "cell_type": "code",
      "source": [
        "import evaluate\n",
        "import math\n",
        "\n",
        "references_hf = [\n",
        "  [\"AFRIQUE OFFRIR BRAS DORE SOLEIL PAYS ETINCELLES\"]\n",
        "]\n",
        "\n",
        "predictions_hf = [\"AFRIQUE OFFRIR BRAS\"]\n",
        "\n",
        "# bleu = evaluate.load(\"bleu\")\n",
        "# results = bleu.compute(references=references_hf, predictions=predictions_hf)\n",
        "# print(\"score BLEU : \",results)\n",
        "\n",
        "sacrebleu = evaluate.load(\"sacrebleu\")\n",
        "results = sacrebleu.compute(references=references_hf, predictions=predictions_hf)\n",
        "print(\"score sacrebleu : \",results)\n",
        "\n",
        "# print(\"BP BLEU : {:.5f}\".format(results[\"bp\"]))\n",
        "\n",
        "# print('BLEU nltk score -> {}'.format(sentence_bleu(references, predictions_hf)))\n",
        "\n",
        "verif = math.exp( 1 - 7/3)\n",
        "print(\"verif : \",verif)\n",
        "\n",
        "verif2 = math.exp(-4/3)\n",
        "print(\"verif2 : \",verif2)\n",
        "\n",
        "verif3 = math.exp(-4)\n",
        "print(\"verif3 : \",verif3)\n",
        "\n",
        "verif4 = verif3 ** (1/3)\n",
        "print(\"verif4 : \",verif4)"
      ],
      "metadata": {
        "colab": {
          "base_uri": "https://localhost:8080/"
        },
        "id": "WrKJlE_7kK4i",
        "outputId": "8082a064-b981-4e2e-cb28-00ef050ea523"
      },
      "execution_count": null,
      "outputs": [
        {
          "output_type": "stream",
          "name": "stdout",
          "text": [
            "score sacrebleu :  {'score': 0.0, 'counts': [3, 2, 1, 0], 'totals': [3, 2, 1, 0], 'precisions': [100.0, 100.0, 100.0, 0.0], 'bp': 0.2635971381157267, 'sys_len': 3, 'ref_len': 7}\n",
            "verif :  0.2635971381157267\n",
            "verif2 :  0.26359713811572677\n",
            "verif3 :  0.01831563888873418\n",
            "verif4 :  0.26359713811572677\n"
          ]
        }
      ]
    },
    {
      "cell_type": "markdown",
      "source": [
        "Vérifions les scores des n-grammes pour un cas qui se produit en NLP dans lequel le premier mot est répété plusieurs fois."
      ],
      "metadata": {
        "id": "MmcwVFKxbCbo"
      }
    },
    {
      "cell_type": "code",
      "source": [
        "hypothesis2 = str('AFRIQUE AFRIQUE AFRIQUE AFRIQUE AFRIQUE').split()\n",
        "print(\"hypothèse : \", hypothesis2)\n",
        "\n",
        "display_count(reference, hypothesis2)\n",
        "\n",
        "print('BLEU score -> {}'.format(sentence_bleu(references, hypothesis2)))"
      ],
      "metadata": {
        "colab": {
          "base_uri": "https://localhost:8080/"
        },
        "id": "gxy7M3ILa-9B",
        "outputId": "57f5efef-df2b-4cbf-d9f3-16ee03afa435"
      },
      "execution_count": null,
      "outputs": [
        {
          "output_type": "stream",
          "name": "stdout",
          "text": [
            "hypothèse :  ['AFRIQUE', 'AFRIQUE', 'AFRIQUE', 'AFRIQUE', 'AFRIQUE']\n",
            "Comptage de 1-gram clippés : 1/5  (0.2)\n",
            "Comptage de 2-gram clippés : 0/4  (0.0)\n",
            "Comptage de 3-gram clippés : 0/3  (0.0)\n",
            "Comptage de 4-gram clippés : 0/2  (0.0)\n",
            "Comptage de 5-gram clippés : 0/1  (0.0)\n",
            "BLEU score -> 8.166726842395623e-232\n"
          ]
        },
        {
          "output_type": "stream",
          "name": "stderr",
          "text": [
            "/usr/local/lib/python3.10/dist-packages/nltk/translate/bleu_score.py:552: UserWarning: \n",
            "The hypothesis contains 0 counts of 2-gram overlaps.\n",
            "Therefore the BLEU score evaluates to 0, independently of\n",
            "how many N-gram overlaps of lower order it contains.\n",
            "Consider using lower n-gram order or use SmoothingFunction()\n",
            "  warnings.warn(_msg)\n",
            "/usr/local/lib/python3.10/dist-packages/nltk/translate/bleu_score.py:552: UserWarning: \n",
            "The hypothesis contains 0 counts of 3-gram overlaps.\n",
            "Therefore the BLEU score evaluates to 0, independently of\n",
            "how many N-gram overlaps of lower order it contains.\n",
            "Consider using lower n-gram order or use SmoothingFunction()\n",
            "  warnings.warn(_msg)\n",
            "/usr/local/lib/python3.10/dist-packages/nltk/translate/bleu_score.py:552: UserWarning: \n",
            "The hypothesis contains 0 counts of 4-gram overlaps.\n",
            "Therefore the BLEU score evaluates to 0, independently of\n",
            "how many N-gram overlaps of lower order it contains.\n",
            "Consider using lower n-gram order or use SmoothingFunction()\n",
            "  warnings.warn(_msg)\n"
          ]
        }
      ]
    },
    {
      "cell_type": "markdown",
      "source": [
        "### Calcul de la moyenne : Définition\n",
        "\n",
        "Faisons apparaître une moyenne dans les comptages de n-grammes.\n",
        "\n",
        "Avec $C$, une hypothèse et $k$ chaque n-gramme appartenant à $C$, nous avons :\n",
        "\n",
        "$p_k = \\frac{\\text{Count}_{\\text{clip}}(k)}{\\text{Count}(k)}$, où $p_k$ est la mesure de précision d'un n-gramme spécifique (par exemple, les unigrammes ou les bigrammes de l'hypothèse présentes dans la référence).\n",
        "\n",
        "Posons BLEU, une moyenne géométrique :\n",
        "\n",
        "La fonction $count_{clip}$ compte ici le nombre de k-gramme de l'hypothèse\n",
        "présentes dans la référence de manières clippées c'est à dire en ne comp-\n",
        "tant pas deux fois la même glose et la fonction count le nombre de gloses\n",
        "de l'hypothèse.\n",
        "\n",
        "#### Moyenne géométrique.\n",
        "Posons, $\\mu$, une moyenne géométrique.\n",
        "\n",
        "$\\mu = \\sqrt[n]{p_1 \\times p_2 \\times ... \\times p_N}$, où $N$ est le nombre total de tokens dans l'hypothèse et $p_1, p_2, ..., p_N$ représentent les précisions modifiées pour chaque ordre de n-gramme.\n",
        "\n",
        "$\\mu = (p_1 \\times p_2 \\times ... \\times p_N)^{\\frac{1}{N}}$ (réécriture de la racine n-ième).\n",
        "\n",
        "$\\mu = \\prod_{i=1}^N p_i^{\\frac{1}{N}}$ (réécriture du produit).\n",
        "\n",
        "Les auteur·e·s utilisent les propriétés du logarithme et la linéarité\n",
        "de la somme pour parler de son domaine logarithmique dans l'article :\n",
        "\n",
        "$log(\\mu) = \\frac{1}{N} \\sum_{i=1}^N \\log p_i$ (puisque $\\log(a^b) = b \\times \\log(a)$) et que la somme est linéaire.\n",
        "\n",
        "Utilisons la réciprocité des fonctions logarithme et exponentielle en com-\n",
        "posant à droite avec l'exponentielle ce qui simplifie le logarithme à gauche :\n",
        "\n",
        "$\\mu = \\exp\\left(\\frac{1}{N} \\sum_{i=1}^N \\log p_i\\right)$.\n",
        "\n",
        "Nous appliquons un poid $w$ pour chaque ordre de n-gramme. Un poid\n",
        "uniforme est 1 de telle sortie que le coefficient de la somme est simplifiée :\n",
        "N\n",
        "\n",
        "$\\tau = \\exp\\left(\\frac{1}{N} \\sum_{i=1}^N w_i \\log p_i\\right)$.\n",
        "\n"
      ],
      "metadata": {
        "id": "HhFl6By-EH7q"
      }
    },
    {
      "cell_type": "markdown",
      "source": [
        "## Pénalité de consision\n",
        "\n",
        "Les hypothèses plus longues que la référence sont déjà pénalisées puisque le nombre de token définit le dénominateur comme expliqué dans la section comptage. Une hypothèse plus courte que la référence pourrait obtenir un score trop élevé, la pénalité de consision (BP pour Brevety penality) pénalise les traductions trop courtes, elle est donnée par la formule suivante :\n",
        "\n",
        "BP = \\begin{cases}\n",
        "1, & \\text{if } c > r \\\\\n",
        "e^{(1 - r/c)}, & \\text{otherwise}\n",
        "\\end{cases}\n",
        "\n",
        "où\n",
        "- \\(c\\) représente le nombre de token de l'hypothèse\n",
        "- \\(r\\) représente le nombre de token de la référence\n"
      ],
      "metadata": {
        "id": "BFLGWWNDPR8_"
      }
    },
    {
      "cell_type": "code",
      "source": [
        "import numpy as np\n",
        "import matplotlib.pyplot as plt\n",
        "\n",
        "# Paramètres\n",
        "r = 7  # Valeur constante de r\n",
        "c =  np.linspace(0, 16, 100)  # Valeurs de c allant de 0 à 16\n",
        "\n",
        "# Calcul de la fonction\n",
        "y = np.exp(1 - r/c)\n",
        "\n",
        "# Tracé de la fonction\n",
        "plt.plot(c, y)\n",
        "plt.xlabel('c')\n",
        "plt.ylabel('e^(1-r/c)')\n",
        "plt.title('Fonction e^(1-r/c)')\n",
        "plt.grid(True)\n",
        "plt.show()"
      ],
      "metadata": {
        "colab": {
          "base_uri": "https://localhost:8080/",
          "height": 507
        },
        "id": "9og6jzcmPP7t",
        "outputId": "67fead6e-bb93-49da-f424-6a4ea3b6791f"
      },
      "execution_count": null,
      "outputs": [
        {
          "output_type": "stream",
          "name": "stderr",
          "text": [
            "<ipython-input-5-6f04d95ded34>:9: RuntimeWarning: divide by zero encountered in true_divide\n",
            "  y = np.exp(1 - r/c)\n"
          ]
        },
        {
          "output_type": "display_data",
          "data": {
            "text/plain": [
              "<Figure size 640x480 with 1 Axes>"
            ],
            "image/png": "[encoded data removed]"
          },
          "metadata": {}
        }
      ]
    },
    {
      "cell_type": "markdown",
      "source": [
        "## Formule BLEU complète\n",
        "\n",
        "La formule générale pour calculer le score BLEU est donnée par :\n",
        "\n",
        "$\\text{BLEU} = \\text{BP} \\times \\exp\\left(\\sum_{n=1}^{N} w_n \\log p_n\\right)$\n",
        "\n",
        "- La moyenne à gauche de l'équation a disparu car elle est prise en compte dans la fonction BP\n",
        "- BP représente la pénalité de longueur (Brevity Penalty) qui ajuste le score BLEU en fonction des différences de longueur entre les traductions automatiques et les références.\n",
        "- $w_n$ est le poids attribué à chaque n-gramme dans le calcul du score BLEU. Par défaut, tous les n-grammes ont le même poids et sont souvent définis à 1/N, où N est le nombre de n-grammes.\n",
        "- N est l'ordre maximal des n-grammes considérés dans le calcul du score BLEU.\n",
        "- $p_n$ est la précision des n-grammes, calculée à l'aide de la formule de précision que nous avons discutée précédemment."
      ],
      "metadata": {
        "id": "rIGregfc7cK_"
      }
    },
    {
      "cell_type": "markdown",
      "source": [
        "## Calcul BLEU avec hugging face\n",
        "\n"
      ],
      "metadata": {
        "id": "CaeNMUNOyGQA"
      }
    },
    {
      "cell_type": "code",
      "execution_count": null,
      "metadata": {
        "id": "Dk_j2ssTwiE2",
        "colab": {
          "base_uri": "https://localhost:8080/",
          "height": 1000,
          "referenced_widgets": [
            "91eda2cf1afd466aa2cf26716f864591",
            "a0a03023a0a14f76a51d5f5f03b9b48f",
            "bcd724f8b4614393871a039ec7389866",
            "5db2abec732c4cf9b7efd30c35121575",
            "8428fab8c40d4b7185caa7a270c0d139",
            "5ac93f86be7a4b6ea44015e58415bf5f",
            "61f08439b8d54535b3583cda4392aded",
            "51a5fd11fb8440cc9d82a68186918192",
            "74c520510fac474b86a183d823ee262e",
            "71203892ff70456ea2ba0d1ec360f63a",
            "8beebd4695974640aae1a104b4383e50",
            "1184fb25ce4647899aa69de701a68c0d",
            "6a65a060125c497eb394c61d1c900430",
            "e3552d28a61742d486efb14e2f7b5b6f",
            "1dbe39da9a514179822b262607430d15",
            "15c8bab58323472ebfbb36034e5b43c3",
            "c4b07f78cbff4e5c86e94905a42dc0c2",
            "f885068f91d649728a90f28048ac6ec5",
            "a830a060ef684ccb9f42956ee0672beb",
            "19dad79933b64c248fde49900f415346",
            "5de8f21abd70415081e5d5e06388088f",
            "823c7b9be9e0435fa597a5283b0634da",
            "9b13daba3a074a188e508232145374f4",
            "192f5075f10240beb6e0ff789473f0b9",
            "582e33ba981d4e06bec05636b7981b07",
            "e43498bbc4ab4898a7578936f4e01b0a",
            "26f2e75fe76d4f11a77d99aa7a889c70",
            "7114a7f7940e4eea8458b8c3f6e284ca",
            "88e3ab6189214001af0ba6b471e631a3",
            "e4d5baf9137b4cc3847489a68598ccdf",
            "fefcb3febd5240d78e8bd6c4401b55c9",
            "f76504f200d64e00944cec47ff95188b",
            "02f5faadd28b4ddba476c5172ba3f856",
            "dd4b29ff99c14b4b8caf6285b0b77621",
            "f0172daa0f8f4fb485f9102f5d86d929",
            "1430bee5294c4ce6b38946290e394a06",
            "abe5280176f3467dafa393f380a8959f",
            "eb9cde895a8c40ff8dde23cded09ce33",
            "1c5a0516463d48ed8d6bbfd6b1d69594",
            "44acab995a744bde90c30282f1876cef",
            "f379c67e227f47d7aafa24d3d2cc8dd8",
            "faf2431f3181452d84f35281b427acf0",
            "51b599dbd8104188bae5f7fa227969b5",
            "f94534b78ead4df0b9e2cbe84c803bcb"
          ]
        },
        "outputId": "0dec874b-6589-40f1-feee-8b1854f2b846"
      },
      "outputs": [
        {
          "output_type": "stream",
          "name": "stdout",
          "text": [
            "Collecting evaluate\n",
            "  Downloading evaluate-0.4.0-py3-none-any.whl (81 kB)\n",
            "\u001b[2K     \u001b[90m━━━━━━━━━━━━━━━━━━━━━━━━━━━━━━━━━━━━━━━━\u001b[0m \u001b[32m81.4/81.4 kB\u001b[0m \u001b[31m1.1 MB/s\u001b[0m eta \u001b[36m0:00:00\u001b[0m\n",
            "\u001b[?25hCollecting datasets>=2.0.0 (from evaluate)\n",
            "  Downloading datasets-2.14.2-py3-none-any.whl (518 kB)\n",
            "\u001b[2K     \u001b[90m━━━━━━━━━━━━━━━━━━━━━━━━━━━━━━━━━━━━━━\u001b[0m \u001b[32m518.9/518.9 kB\u001b[0m \u001b[31m13.5 MB/s\u001b[0m eta \u001b[36m0:00:00\u001b[0m\n",
            "\u001b[?25hRequirement already satisfied: numpy>=1.17 in /usr/local/lib/python3.10/dist-packages (from evaluate) (1.22.4)\n",
            "Collecting dill (from evaluate)\n",
            "  Downloading dill-0.3.7-py3-none-any.whl (115 kB)\n",
            "\u001b[2K     \u001b[90m━━━━━━━━━━━━━━━━━━━━━━━━━━━━━━━━━━━━━━━\u001b[0m \u001b[32m115.3/115.3 kB\u001b[0m \u001b[31m6.2 MB/s\u001b[0m eta \u001b[36m0:00:00\u001b[0m\n",
            "\u001b[?25hRequirement already satisfied: pandas in /usr/local/lib/python3.10/dist-packages (from evaluate) (1.5.3)\n",
            "Requirement already satisfied: requests>=2.19.0 in /usr/local/lib/python3.10/dist-packages (from evaluate) (2.27.1)\n",
            "Requirement already satisfied: tqdm>=4.62.1 in /usr/local/lib/python3.10/dist-packages (from evaluate) (4.65.0)\n",
            "Collecting xxhash (from evaluate)\n",
            "  Downloading xxhash-3.3.0-cp310-cp310-manylinux_2_17_x86_64.manylinux2014_x86_64.whl (194 kB)\n",
            "\u001b[2K     \u001b[90m━━━━━━━━━━━━━━━━━━━━━━━━━━━━━━━━━━━━━━\u001b[0m \u001b[32m194.1/194.1 kB\u001b[0m \u001b[31m20.6 MB/s\u001b[0m eta \u001b[36m0:00:00\u001b[0m\n",
            "\u001b[?25hCollecting multiprocess (from evaluate)\n",
            "  Downloading multiprocess-0.70.15-py310-none-any.whl (134 kB)\n",
            "\u001b[2K     \u001b[90m━━━━━━━━━━━━━━━━━━━━━━━━━━━━━━━━━━━━━━\u001b[0m \u001b[32m134.8/134.8 kB\u001b[0m \u001b[31m14.1 MB/s\u001b[0m eta \u001b[36m0:00:00\u001b[0m\n",
            "\u001b[?25hRequirement already satisfied: fsspec[http]>=2021.05.0 in /usr/local/lib/python3.10/dist-packages (from evaluate) (2023.6.0)\n",
            "Collecting huggingface-hub>=0.7.0 (from evaluate)\n",
            "  Downloading huggingface_hub-0.16.4-py3-none-any.whl (268 kB)\n",
            "\u001b[2K     \u001b[90m━━━━━━━━━━━━━━━━━━━━━━━━━━━━━━━━━━━━━━\u001b[0m \u001b[32m268.8/268.8 kB\u001b[0m \u001b[31m25.8 MB/s\u001b[0m eta \u001b[36m0:00:00\u001b[0m\n",
            "\u001b[?25hRequirement already satisfied: packaging in /usr/local/lib/python3.10/dist-packages (from evaluate) (23.1)\n",
            "Collecting responses<0.19 (from evaluate)\n",
            "  Downloading responses-0.18.0-py3-none-any.whl (38 kB)\n",
            "Requirement already satisfied: pyarrow>=8.0.0 in /usr/local/lib/python3.10/dist-packages (from datasets>=2.0.0->evaluate) (9.0.0)\n",
            "Requirement already satisfied: aiohttp in /usr/local/lib/python3.10/dist-packages (from datasets>=2.0.0->evaluate) (3.8.5)\n",
            "Requirement already satisfied: pyyaml>=5.1 in /usr/local/lib/python3.10/dist-packages (from datasets>=2.0.0->evaluate) (6.0.1)\n",
            "Requirement already satisfied: filelock in /usr/local/lib/python3.10/dist-packages (from huggingface-hub>=0.7.0->evaluate) (3.12.2)\n",
            "Requirement already satisfied: typing-extensions>=3.7.4.3 in /usr/local/lib/python3.10/dist-packages (from huggingface-hub>=0.7.0->evaluate) (4.7.1)\n",
            "Requirement already satisfied: urllib3<1.27,>=1.21.1 in /usr/local/lib/python3.10/dist-packages (from requests>=2.19.0->evaluate) (1.26.16)\n",
            "Requirement already satisfied: certifi>=2017.4.17 in /usr/local/lib/python3.10/dist-packages (from requests>=2.19.0->evaluate) (2023.7.22)\n",
            "Requirement already satisfied: charset-normalizer~=2.0.0 in /usr/local/lib/python3.10/dist-packages (from requests>=2.19.0->evaluate) (2.0.12)\n",
            "Requirement already satisfied: idna<4,>=2.5 in /usr/local/lib/python3.10/dist-packages (from requests>=2.19.0->evaluate) (3.4)\n",
            "Requirement already satisfied: python-dateutil>=2.8.1 in /usr/local/lib/python3.10/dist-packages (from pandas->evaluate) (2.8.2)\n",
            "Requirement already satisfied: pytz>=2020.1 in /usr/local/lib/python3.10/dist-packages (from pandas->evaluate) (2022.7.1)\n",
            "Requirement already satisfied: attrs>=17.3.0 in /usr/local/lib/python3.10/dist-packages (from aiohttp->datasets>=2.0.0->evaluate) (23.1.0)\n",
            "Requirement already satisfied: multidict<7.0,>=4.5 in /usr/local/lib/python3.10/dist-packages (from aiohttp->datasets>=2.0.0->evaluate) (6.0.4)\n",
            "Requirement already satisfied: async-timeout<5.0,>=4.0.0a3 in /usr/local/lib/python3.10/dist-packages (from aiohttp->datasets>=2.0.0->evaluate) (4.0.2)\n",
            "Requirement already satisfied: yarl<2.0,>=1.0 in /usr/local/lib/python3.10/dist-packages (from aiohttp->datasets>=2.0.0->evaluate) (1.9.2)\n",
            "Requirement already satisfied: frozenlist>=1.1.1 in /usr/local/lib/python3.10/dist-packages (from aiohttp->datasets>=2.0.0->evaluate) (1.4.0)\n",
            "Requirement already satisfied: aiosignal>=1.1.2 in /usr/local/lib/python3.10/dist-packages (from aiohttp->datasets>=2.0.0->evaluate) (1.3.1)\n",
            "Requirement already satisfied: six>=1.5 in /usr/local/lib/python3.10/dist-packages (from python-dateutil>=2.8.1->pandas->evaluate) (1.16.0)\n",
            "Installing collected packages: xxhash, dill, responses, multiprocess, huggingface-hub, datasets, evaluate\n",
            "Successfully installed datasets-2.14.2 dill-0.3.7 evaluate-0.4.0 huggingface-hub-0.16.4 multiprocess-0.70.15 responses-0.18.0 xxhash-3.3.0\n",
            "Collecting sacrebleu\n",
            "  Downloading sacrebleu-2.3.1-py3-none-any.whl (118 kB)\n",
            "\u001b[2K     \u001b[90m━━━━━━━━━━━━━━━━━━━━━━━━━━━━━━━━━━━━━━━\u001b[0m \u001b[32m118.9/118.9 kB\u001b[0m \u001b[31m4.3 MB/s\u001b[0m eta \u001b[36m0:00:00\u001b[0m\n",
            "\u001b[?25hCollecting portalocker (from sacrebleu)\n",
            "  Downloading portalocker-2.7.0-py2.py3-none-any.whl (15 kB)\n",
            "Requirement already satisfied: regex in /usr/local/lib/python3.10/dist-packages (from sacrebleu) (2022.10.31)\n",
            "Requirement already satisfied: tabulate>=0.8.9 in /usr/local/lib/python3.10/dist-packages (from sacrebleu) (0.9.0)\n",
            "Requirement already satisfied: numpy>=1.17 in /usr/local/lib/python3.10/dist-packages (from sacrebleu) (1.22.4)\n",
            "Collecting colorama (from sacrebleu)\n",
            "  Downloading colorama-0.4.6-py2.py3-none-any.whl (25 kB)\n",
            "Requirement already satisfied: lxml in /usr/local/lib/python3.10/dist-packages (from sacrebleu) (4.9.3)\n",
            "Installing collected packages: portalocker, colorama, sacrebleu\n",
            "Successfully installed colorama-0.4.6 portalocker-2.7.0 sacrebleu-2.3.1\n"
          ]
        },
        {
          "output_type": "display_data",
          "data": {
            "text/plain": [
              "Downloading builder script:   0%|          | 0.00/5.94k [00:00<?, ?B/s]"
            ],
            "application/vnd.jupyter.widget-view+json": {
              "version_major": 2,
              "version_minor": 0,
              "model_id": "91eda2cf1afd466aa2cf26716f864591"
            }
          },
          "metadata": {}
        },
        {
          "output_type": "display_data",
          "data": {
            "text/plain": [
              "Downloading extra modules:   0%|          | 0.00/1.55k [00:00<?, ?B/s]"
            ],
            "application/vnd.jupyter.widget-view+json": {
              "version_major": 2,
              "version_minor": 0,
              "model_id": "1184fb25ce4647899aa69de701a68c0d"
            }
          },
          "metadata": {}
        },
        {
          "output_type": "display_data",
          "data": {
            "text/plain": [
              "Downloading extra modules:   0%|          | 0.00/3.34k [00:00<?, ?B/s]"
            ],
            "application/vnd.jupyter.widget-view+json": {
              "version_major": 2,
              "version_minor": 0,
              "model_id": "9b13daba3a074a188e508232145374f4"
            }
          },
          "metadata": {}
        },
        {
          "output_type": "stream",
          "name": "stdout",
          "text": [
            "score BLEU :  {'bleu': 0.488923022434901, 'precisions': [0.8571428571428571, 0.6666666666666666, 0.4, 0.25], 'brevity_penalty': 1.0, 'length_ratio': 1.0, 'translation_length': 7, 'reference_length': 7}\n"
          ]
        },
        {
          "output_type": "display_data",
          "data": {
            "text/plain": [
              "Downloading builder script:   0%|          | 0.00/8.15k [00:00<?, ?B/s]"
            ],
            "application/vnd.jupyter.widget-view+json": {
              "version_major": 2,
              "version_minor": 0,
              "model_id": "dd4b29ff99c14b4b8caf6285b0b77621"
            }
          },
          "metadata": {}
        },
        {
          "output_type": "stream",
          "name": "stdout",
          "text": [
            "score sacrebleu :  {'score': 48.892302243490086, 'counts': [6, 4, 2, 1], 'totals': [7, 6, 5, 4], 'precisions': [85.71428571428571, 66.66666666666667, 40.0, 25.0], 'bp': 1.0, 'sys_len': 7, 'ref_len': 7}\n"
          ]
        }
      ],
      "source": [
        "!pip install evaluate\n",
        "!pip install sacrebleu\n",
        "\n",
        "import evaluate\n",
        "\n",
        "references_hf = [\n",
        "  [\"AFRIQUE OFFRIR BRAS DORE SOLEIL PAYS ETINCELLES\"]\n",
        "]\n",
        "\n",
        "predictions_hf = [\"AFRIQUE OFFRIR BRAS DORE ETOILE PAYS ETINCELLES\"]\n",
        "\n",
        "bleu = evaluate.load(\"bleu\")\n",
        "results = bleu.compute(references=references_hf, predictions=predictions_hf)\n",
        "print(\"score BLEU : \",results)\n",
        "\n",
        "sacrebleu = evaluate.load(\"sacrebleu\")\n",
        "results = sacrebleu.compute(references=references_hf, predictions=predictions_hf)\n",
        "print(\"score sacrebleu : \",results)"
      ]
    },
    {
      "cell_type": "markdown",
      "source": [
        "references = [\n",
        "  \"AFRIQUE OFFRIR BRAS DORE SOLEIL PAYS ETINCELLES\".split(\" \")\n",
        "]\n",
        "\n",
        "hypothesis = \"AFRIQUE DONNER BRAS DORE SOLEIL PAYS ETINCELLES\".split(\" \")\n",
        "\n",
        "print('BLEU score -> {}'.format(sentence_bleu(references, hypothesis)))"
      ],
      "metadata": {
        "id": "S77C2w93o0bR"
      }
    },
    {
      "cell_type": "markdown",
      "source": [
        "Avec NLTK"
      ],
      "metadata": {
        "id": "4WAFs_Iao3N7"
      }
    },
    {
      "cell_type": "code",
      "source": [
        "import math\n",
        "\n",
        "result = math.exp(-3/4)\n",
        "print(result)"
      ],
      "metadata": {
        "colab": {
          "base_uri": "https://localhost:8080/"
        },
        "id": "NykFojr0F0M1",
        "outputId": "150cdb9a-0ff7-431c-95f2-4cc80be2d6d2"
      },
      "execution_count": null,
      "outputs": [
        {
          "output_type": "stream",
          "name": "stdout",
          "text": [
            "0.4723665527410147\n"
          ]
        }
      ]
    },
    {
      "cell_type": "markdown",
      "source": [
        "# Suppléments"
      ],
      "metadata": {
        "id": "j5k9Tu6vnHmS"
      }
    },
    {
      "cell_type": "markdown",
      "source": [
        "### sentence transformer\n",
        "\n",
        "Aller plus loin avec les synonymes (introduits par la mesure METEOR)"
      ],
      "metadata": {
        "id": "hqcOeH6nmHOw"
      }
    },
    {
      "cell_type": "code",
      "source": [
        "!pip install sentence-transformers\n",
        "\n",
        "import nltk\n",
        "from nltk.corpus import wordnet\n",
        "from sentence_transformers import SentenceTransformer, util\n",
        "\n",
        "# Télécharger les ressources nécessaires pour nltk (exécutez-le une seule fois)\n",
        "nltk.download('punkt')\n",
        "nltk.download('wordnet')\n",
        "\n",
        "# Fonction pour obtenir les synonymes d'un mot\n",
        "def get_synonyms(word):\n",
        "    synonyms = set()\n",
        "    for synset in wordnet.synsets(word):\n",
        "        for lemma in synset.lemmas():\n",
        "            synonyms.add(lemma.name())\n",
        "    return list(synonyms)\n",
        "\n",
        "# Références et hypothèse sous forme de phrases\n",
        "reference = \"AFRIQUE OFFRIR BRAS DORE SOLEIL PAYS ETINCELLES\"\n",
        "hypothesis = \"AFRIQUE DONNER BRAS DORE SOLEIL PAYS ETINCELLES\"\n",
        "\n",
        "# Créer une version augmentée de l'hypothèse avec les synonymes\n",
        "augmented_hypotheses = []\n",
        "for word in hypothesis.split():\n",
        "    synonyms = get_synonyms(word)\n",
        "    augmented_hypotheses.append(word)  # Ajouter l'hypothèse originale\n",
        "    augmented_hypotheses.extend(synonyms)\n",
        "\n",
        "# Transformer les phrases en vecteurs sémantiques\n",
        "model = SentenceTransformer('paraphrase-MiniLM-L6-v2')\n",
        "reference_embedding = model.encode([reference], convert_to_tensor=True)\n",
        "hypothesis_embedding = model.encode([augmented_hypotheses], convert_to_tensor=True)\n",
        "\n",
        "# Calculer la similarité cosinus entre l'hypothèse augmentée et la référence\n",
        "cosine_score = util.pytorch_cos_sim(hypothesis_embedding, reference_embedding)\n",
        "\n",
        "# Afficher la similarité cosinus et le score BLEU\n",
        "print('Similarité cosinus :', cosine_score.item())\n",
        "\n",
        "references = [reference.split()]\n",
        "hypothesis_bleu = augmented_hypotheses\n",
        "\n",
        "bleu_score = sentence_bleu(references, hypothesis_bleu)\n",
        "print('Score BLEU avec synonymes :', bleu_score)\n"
      ],
      "metadata": {
        "colab": {
          "base_uri": "https://localhost:8080/"
        },
        "id": "5pyhzWWsHwqJ",
        "outputId": "f09c076f-05a1-41a5-a977-c02f5b8f91a5"
      },
      "execution_count": null,
      "outputs": [
        {
          "output_type": "stream",
          "name": "stderr",
          "text": [
            "[nltk_data] Downloading package punkt to /root/nltk_data...\n",
            "[nltk_data]   Package punkt is already up-to-date!\n",
            "[nltk_data] Downloading package wordnet to /root/nltk_data...\n",
            "[nltk_data]   Package wordnet is already up-to-date!\n"
          ]
        },
        {
          "output_type": "stream",
          "name": "stdout",
          "text": [
            "Similarité cosinus : 0.3482857346534729\n",
            "Score BLEU avec synonymes : 2.165414196653705e-78\n"
          ]
        },
        {
          "output_type": "stream",
          "name": "stderr",
          "text": [
            "/usr/local/lib/python3.10/dist-packages/nltk/translate/bleu_score.py:552: UserWarning: \n",
            "The hypothesis contains 0 counts of 4-gram overlaps.\n",
            "Therefore the BLEU score evaluates to 0, independently of\n",
            "how many N-gram overlaps of lower order it contains.\n",
            "Consider using lower n-gram order or use SmoothingFunction()\n",
            "  warnings.warn(_msg)\n"
          ]
        }
      ]
    },
    {
      "cell_type": "markdown",
      "source": [
        "# Remerciements et références\n",
        "\n",
        "@inproceedings{papineni-etal-2002-bleu,\n",
        "    title = \"{B}leu: a Method for Automatic Evaluation of Machine Translation\",\n",
        "    author = \"Papineni, Kishore  and\n",
        "      Roukos, Salim  and\n",
        "      Ward, Todd  and\n",
        "      Zhu, Wei-Jing\",\n",
        "    booktitle = \"Proceedings of the 40th Annual Meeting of the Association for Computational Linguistics\",\n",
        "    month = jul,\n",
        "    year = \"2002\",\n",
        "    address = \"Philadelphia, Pennsylvania, USA\",\n",
        "    publisher = \"Association for Computational Linguistics\",\n",
        "    url = \"https://aclanthology.org/P02-1040\",\n",
        "    doi = \"10.3115/1073083.1073135\",\n",
        "    pages = \"311--318\",\n",
        "}"
      ],
      "metadata": {
        "id": "qcoOViDJKSvs"
      }
    }
  ]
}