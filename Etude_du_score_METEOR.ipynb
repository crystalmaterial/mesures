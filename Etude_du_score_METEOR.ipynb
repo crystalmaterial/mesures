{
  "nbformat": 4,
  "nbformat_minor": 0,
  "metadata": {
    "colab": {
      "provenance": []
    },
    "kernelspec": {
      "name": "python3",
      "display_name": "Python 3"
    },
    "language_info": {
      "name": "python"
    }
  },
  "cells": [
    {
      "cell_type": "markdown",
      "source": [
        "# METEOR\n",
        "Réflexion basée sur : https://aclanthology.org/W05-0909.pdf utilisant du code de : https://github.com/zembrodt/pymeteor"
      ],
      "metadata": {
        "id": "ejmoEWlewBRU"
      }
    },
    {
      "cell_type": "markdown",
      "source": [
        "## config"
      ],
      "metadata": {
        "id": "BRD01lIlzWyM"
      }
    },
    {
      "cell_type": "code",
      "source": [
        "!pip install --index-url https://test.pypi.org/simple/ pymeteor\n",
        "import pymeteor.pymeteor as pymeteor"
      ],
      "metadata": {
        "id": "Os-1jdPQysYQ"
      },
      "execution_count": null,
      "outputs": []
    },
    {
      "cell_type": "markdown",
      "source": [
        "## Exemples d'une mesure METEOR\n",
        "Réflexion basée sur : https://aclanthology.org/W05-0909.pdf utilisant du code de : https://github.com/zembrodt/pymeteor"
      ],
      "metadata": {
        "id": "i5GQmlvTzZZ1"
      }
    },
    {
      "cell_type": "code",
      "execution_count": null,
      "metadata": {
        "colab": {
          "base_uri": "https://localhost:8080/"
        },
        "id": "E_WSeQk1kOyR",
        "outputId": "d0243fd4-9397-4ee4-d948-e6bbe709f3af"
      },
      "outputs": [
        {
          "output_type": "stream",
          "name": "stdout",
          "text": [
            "Reference: \"AFRIQUE OFFRIR BRAS DORE SOLEIL PAYS ETINCELLES\"\n",
            "Candidate: \"AFRIQUE OFFRIR BRAS DORE ETOILE PAYS ETINCELLES\"\n",
            "Score: 0.8413 = Fmean: 0.8571 * (1 - Penalty: 0.0185)\n",
            "Fmean: 0.8571 = 10 * Precision: 0.8571 * Recall: 0.8571 / (Recall: 0.8571 + 9 * Precision: 0.8571)\n",
            "Penalty: 0.0185 = 0.5 * (Fragmentation: 0.3333 ^3)\n",
            "Fragmentation: 0.3333 = Chunks: 2.0000 / Matches: 6.0000\n",
            "\n",
            "0.8412698412698413\n"
          ]
        }
      ],
      "source": [
        "reference = \"AFRIQUE OFFRIR BRAS DORE SOLEIL PAYS ETINCELLES\"\n",
        "hypothesis = \"AFRIQUE OFFRIR BRAS DORE ETOILE PAYS ETINCELLES\"\n",
        "\n",
        "meteor_score = pymeteor.meteor(reference, hypothesis, print_details=True)\n",
        "print(meteor_score)"
      ]
    },
    {
      "cell_type": "code",
      "source": [
        "reference = \"AFRIQUE OFFRIR BRAS DORE SOLEIL PAYS ETINCELLES\"\n",
        "hypothesis = \"AFRIQUE OFFRIR BRAS DORE ETOILE ETINCELLES\"\n",
        "\n",
        "meteor_score = pymeteor.meteor(reference, hypothesis, print_details=True)\n",
        "print(meteor_score)"
      ],
      "metadata": {
        "colab": {
          "base_uri": "https://localhost:8080/"
        },
        "id": "Z-ijP6PoJky5",
        "outputId": "a2fed922-2124-481a-94ec-883ce0e8357e"
      },
      "execution_count": null,
      "outputs": [
        {
          "output_type": "stream",
          "name": "stdout",
          "text": [
            "Reference: \"AFRIQUE OFFRIR BRAS DORE SOLEIL PAYS ETINCELLES\"\n",
            "Candidate: \"AFRIQUE OFFRIR BRAS DORE ETOILE ETINCELLES\"\n",
            "Score: 0.7014 = Fmean: 0.7246 * (1 - Penalty: 0.0320)\n",
            "Fmean: 0.7246 = 10 * Precision: 0.8333 * Recall: 0.7143 / (Recall: 0.7143 + 9 * Precision: 0.8333)\n",
            "Penalty: 0.0320 = 0.5 * (Fragmentation: 0.4000 ^3)\n",
            "Fragmentation: 0.4000 = Chunks: 2.0000 / Matches: 5.0000\n",
            "\n",
            "0.7014492753623189\n"
          ]
        }
      ]
    },
    {
      "cell_type": "code",
      "source": [
        "reference = \"AFRIQUE OFFRIR BRAS DORE SOLEIL PAYS ETINCELLES\"\n",
        "hypothesis = \"AFRIQUE AFRIQUE OFFRIR BRAS DORE ETOILE ETINCELLES\"\n",
        "\n",
        "meteor_score = pymeteor.meteor(reference, hypothesis, print_details=True)\n",
        "print(meteor_score)"
      ],
      "metadata": {
        "colab": {
          "base_uri": "https://localhost:8080/"
        },
        "id": "hLLHy_OyJ4gF",
        "outputId": "e0b9dc46-2205-4262-ccd8-883584f529cd"
      },
      "execution_count": null,
      "outputs": [
        {
          "output_type": "stream",
          "name": "stdout",
          "text": [
            "Reference: \"AFRIQUE OFFRIR BRAS DORE SOLEIL PAYS ETINCELLES\"\n",
            "Candidate: \"AFRIQUE AFRIQUE OFFRIR BRAS DORE ETOILE ETINCELLES\"\n",
            "Score: 0.7646 = Fmean: 0.8571 * (1 - Penalty: 0.1080)\n",
            "Fmean: 0.8571 = 10 * Precision: 0.8571 * Recall: 0.8571 / (Recall: 0.8571 + 9 * Precision: 0.8571)\n",
            "Penalty: 0.1080 = 0.5 * (Fragmentation: 0.6000 ^3)\n",
            "Fragmentation: 0.6000 = Chunks: 3.0000 / Matches: 5.0000\n",
            "\n",
            "0.7645714285714286\n"
          ]
        }
      ]
    },
    {
      "cell_type": "markdown",
      "source": [
        "## Mesures\n",
        "\n",
        "Les mesures qui ressortent sont :\n",
        "\n",
        "- score\n",
        "\n",
        "- Fmean / F1 : $\\frac{2 \\times precision \\times rappel}{precision + rappel}$ qui est adaptée vers $\\frac{10 PR}{R + 9P}$\n",
        "\n",
        "- Précision : $\\frac{TP}{TP + FN}$ Modèle pénalisé pour chaque mot $\\in$ hypothèse, mais qui ne devrait pas y être selon la référence. c-a-d une mesure de la proportion de mots de l'hypothèse par rapport à la référence.\n",
        "\n",
        "- Rappel : $\\frac{TP}{TP + FP}$ Modèle pénalisé pour chaque mot $\\notin$ hypothèse et qui aurait du. Mesure la proportion de mots manqués.\n",
        "\n",
        "- Pénalité\n",
        "\n",
        "- Fragmentation"
      ],
      "metadata": {
        "id": "WzdSTaXV5_F0"
      }
    },
    {
      "cell_type": "code",
      "source": [
        "!pip install --upgrade datasets\n",
        "!pip install importlib-metadata"
      ],
      "metadata": {
        "id": "8ohkLYPPOTrQ"
      },
      "execution_count": null,
      "outputs": []
    },
    {
      "cell_type": "code",
      "source": [
        "import evaluate\n",
        "\n",
        "# Prédictions et références sous forme de listes\n",
        "predictions = [\"It is a guide to action which ensures that the military always obeys the commands of the party\"]\n",
        "references = [\"It is a guide to action which ensures that the military always obeys the commands of the party\"]\n",
        "\n",
        "# Charger la mesure METEOR\n",
        "meteor = evaluate.load('meteor')\n",
        "\n",
        "# Calculer le score METEOR\n",
        "results = meteor.compute(predictions=predictions, references=references)\n",
        "\n",
        "# Afficher le score METEOR arrondi à deux décimales\n",
        "print(results['meteor'])"
      ],
      "metadata": {
        "id": "7ud4vuhaOUVm"
      },
      "execution_count": null,
      "outputs": []
    }
  ]
}